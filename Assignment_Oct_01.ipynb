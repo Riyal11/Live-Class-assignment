{
  "nbformat": 4,
  "nbformat_minor": 0,
  "metadata": {
    "colab": {
      "provenance": []
    },
    "kernelspec": {
      "name": "python3",
      "display_name": "Python 3"
    },
    "language_info": {
      "name": "python"
    }
  },
  "cells": [
    {
      "cell_type": "markdown",
      "source": [
        "1. What is indentation error? Why indentation is important? Give one simple example?\n",
        "\n",
        "Ans. The idenattion error can occur **when the spaces or tabs are not placed properly.**\n",
        "\n",
        "  Identation is important because an Identation in Python is used to  segragate a singular code into identifiable groups of functionally similar statements.Due to these indentations, we can easily identify the beginning point and at the endpoint of any conditional loop, functions, if-else statements and so on.\n",
        "\n"
      ],
      "metadata": {
        "id": "xw4TX59NsOdF"
      }
    },
    {
      "cell_type": "code",
      "execution_count": 2,
      "metadata": {
        "colab": {
          "base_uri": "https://localhost:8080/",
          "height": 130
        },
        "id": "VAIuYeEAsIxi",
        "outputId": "d207dcd6-96a9-48ac-d967-63383d21268b"
      },
      "outputs": [
        {
          "output_type": "error",
          "ename": "IndentationError",
          "evalue": "ignored",
          "traceback": [
            "\u001b[0;36m  File \u001b[0;32m\"<ipython-input-2-b03173c31de8>\"\u001b[0;36m, line \u001b[0;32m5\u001b[0m\n\u001b[0;31m    print(\"Lets do work from home\") # identation error\u001b[0m\n\u001b[0m        ^\u001b[0m\n\u001b[0;31mIndentationError\u001b[0m\u001b[0;31m:\u001b[0m expected an indented block\n"
          ]
        }
      ],
      "source": [
        "#example of identation error\n",
        "raining = True\n",
        "\n",
        "if raining: # TRUE CONDITION \n",
        "print(\"Lets do work from home\") # identation error\n",
        "else:\n",
        "    print(\"Lets go to office\")"
      ]
    },
    {
      "cell_type": "markdown",
      "source": [
        "2. Correct the following code and write the comment where you made the correction?\n",
        "\n",
        "  ```python\n",
        "  class_started = bool(input(\"Hey friend, is class started?: [0-False/1-True]\"))\n",
        "\n",
        "  if class_started:\n",
        "      print(\"Since class started...\")\n",
        "      print(\"Lets concentrate\")\n",
        "  else:\n",
        "      print(\"Since class is not started...\")\n",
        "      print(\"let's revise\")    \n",
        "  ```\n",
        "\n",
        "  **HINT:** Refer your data type conversion class"
      ],
      "metadata": {
        "id": "-eSa62SOud6A"
      }
    },
    {
      "cell_type": "code",
      "source": [
        "  class_started = input(\"Hey friend, is class started?: [0-False/1-True]\")\n",
        "\n",
        "  if class_started == \"0\" or class_started == \"False\" :\n",
        "    class_started = \"\"\n",
        "\n",
        "  if class_started :\n",
        "      print(\"Since class started...\")\n",
        "      print(\"Lets concentrate\")\n",
        "  else:\n",
        "      print(\"Since class is not started...\")\n",
        "      print(\"let's revise\")    "
      ],
      "metadata": {
        "colab": {
          "base_uri": "https://localhost:8080/"
        },
        "id": "bMNom5vUtvhV",
        "outputId": "eb216053-9362-414c-c80a-7ec40fdf796d"
      },
      "execution_count": 10,
      "outputs": [
        {
          "output_type": "stream",
          "name": "stdout",
          "text": [
            "Hey friend, is class started?: [0-False/1-True]0\n",
            "Since class is not started...\n",
            "let's revise\n"
          ]
        }
      ]
    },
    {
      "cell_type": "markdown",
      "source": [
        "3. Use if else condition to verify that dataype of `input()` method in python is always string."
      ],
      "metadata": {
        "id": "DmOz1d9QyTz6"
      }
    },
    {
      "cell_type": "code",
      "source": [
        "result = input(\"Bhai pass hogya kya?: [0-False/1-True]\")\n",
        "\n",
        "if type(result) == str:\n",
        "  print(type(result))\n",
        "  print(\"I am string\")\n",
        "else:\n",
        " print(\"I am not string\")"
      ],
      "metadata": {
        "colab": {
          "base_uri": "https://localhost:8080/"
        },
        "id": "4W-1xBHJuzj3",
        "outputId": "942acb44-4e62-4bfc-b5e1-f9df7bdb6af5"
      },
      "execution_count": 14,
      "outputs": [
        {
          "output_type": "stream",
          "name": "stdout",
          "text": [
            "Bhai pass hogya kya?: [0-False/1-True]1\n",
            "<class 'str'>\n",
            "I am string\n"
          ]
        }
      ]
    },
    {
      "cell_type": "markdown",
      "source": [
        "4. Take 3 variables and assign integer values to them. Find the largest variable, by only using the if and else conditions."
      ],
      "metadata": {
        "id": "fnfdTm8f0ZGq"
      }
    },
    {
      "cell_type": "code",
      "source": [
        " a = int(input(\"Enter first Number: \"))\n",
        " b = int(input(\"Enter second Number: \"))\n",
        " c = int(input(\"Enter third Number: \"))\n",
        "\n",
        " if a < b:\n",
        "  if b < c:\n",
        "    print(f\"{c} is largest\")\n",
        "  else:\n",
        "    print(f\"{b} is largest\")\n",
        " else:\n",
        "  print(f\"{a}is largest\")"
      ],
      "metadata": {
        "colab": {
          "base_uri": "https://localhost:8080/"
        },
        "id": "gseaXIpYzzVe",
        "outputId": "9bd844f7-1b25-47a2-eea9-44987408628a"
      },
      "execution_count": 16,
      "outputs": [
        {
          "output_type": "stream",
          "name": "stdout",
          "text": [
            "Enter first Number: 12\n",
            "Enter second Number: 43\n",
            "Enter third Number: 68\n",
            "68 is largest\n"
          ]
        }
      ]
    },
    {
      "cell_type": "markdown",
      "source": [
        "5. What would be the solution?\n",
        "    1. True\n",
        "    2. False\n",
        "\n",
        "    ```python\n",
        "    a = 6\n",
        "    b = 10\n",
        "    print( not ( not a == 10 or not b == 10) )\n",
        "    ```\n",
        "\n",
        "Ans. False"
      ],
      "metadata": {
        "id": "3dvn03nk1pJ5"
      }
    },
    {
      "cell_type": "markdown",
      "source": [
        "\n",
        "\n",
        "\n",
        "\n",
        "\n",
        "\n",
        "\n",
        "\n",
        "\n",
        "\n",
        "\n",
        "    \n",
        "6. Find the answer as well as find out the reason behind the result? -\n",
        "    - case 1:\n",
        "        ```python\n",
        "        A = 5.0\n",
        "        B = 10/2\n",
        "        print(A is B)\n",
        "        ```\n",
        "    - case 2:\n",
        "        ```python\n",
        "        A = 5.0\n",
        "        B = int(10/2)\n",
        "        print(A is B)\n",
        "        ```\n",
        "    - case 3:\n",
        "        ```python\n",
        "        A = 5.0\n",
        "        B = float(10/2)\n",
        "        print(A is B)\n",
        "        ```"
      ],
      "metadata": {
        "id": "1pRdcrKg2B4p"
      }
    },
    {
      "cell_type": "code",
      "source": [
        "# Case 1\n",
        "\n",
        "A= 5.0\n",
        "B= 10/2\n",
        "\n",
        "print(A is B)\n",
        "\n",
        "\"\"\"A is floating type number with base 10 where as B is arithmatic operation with base 2 thats why the value is False. \n",
        "Python only prints a decimal approximation to the true decimal value of the binary approximation stored by the machine.\n",
        "\"\"\""
      ],
      "metadata": {
        "colab": {
          "base_uri": "https://localhost:8080/",
          "height": 70
        },
        "id": "QYrmt7jQ1L0X",
        "outputId": "2416410e-437b-4468-cb9b-aa9737710a54"
      },
      "execution_count": 17,
      "outputs": [
        {
          "output_type": "stream",
          "name": "stdout",
          "text": [
            "False\n"
          ]
        },
        {
          "output_type": "execute_result",
          "data": {
            "text/plain": [
              "'A is floating type number with base 10 where as B is arithmatic operation with base 2 thats why the value is False. \\nPython only prints a decimal approximation to the true decimal value of the binary approximation stored by the machine.\\n'"
            ],
            "application/vnd.google.colaboratory.intrinsic+json": {
              "type": "string"
            }
          },
          "metadata": {},
          "execution_count": 17
        }
      ]
    },
    {
      "cell_type": "code",
      "source": [
        "# Case 2\n",
        "A = 5.0\n",
        "B = int(10/2)\n",
        "print(A is B)\n",
        "\n",
        "\"\"\"\n",
        "A is floating type number with base 10 and B is type casted to integer with base 2 so it is printed as False\n",
        "\"\"\""
      ],
      "metadata": {
        "colab": {
          "base_uri": "https://localhost:8080/",
          "height": 53
        },
        "id": "CHvDKYy-2cU4",
        "outputId": "67e326b6-bb4a-41e5-8d90-4e073c3d6e24"
      },
      "execution_count": 18,
      "outputs": [
        {
          "output_type": "stream",
          "name": "stdout",
          "text": [
            "False\n"
          ]
        },
        {
          "output_type": "execute_result",
          "data": {
            "text/plain": [
              "'\\nA is floating type number with base 10 and B is type casted to integer with base 2 so it is printed as False\\n'"
            ],
            "application/vnd.google.colaboratory.intrinsic+json": {
              "type": "string"
            }
          },
          "metadata": {},
          "execution_count": 18
        }
      ]
    },
    {
      "cell_type": "code",
      "source": [
        "A = 5.0\n",
        "B = float(10/2)\n",
        "print(A is B)\n",
        "\"\"\"\n",
        "the arithmatic expression is of base 2 and is converted to float type . Same as case 1 \n",
        "\n",
        "\"\"\""
      ],
      "metadata": {
        "colab": {
          "base_uri": "https://localhost:8080/",
          "height": 53
        },
        "id": "8mbNR5FC2fR4",
        "outputId": "019d9717-0fe3-4b9b-90ea-afdb12e4d106"
      },
      "execution_count": 19,
      "outputs": [
        {
          "output_type": "stream",
          "name": "stdout",
          "text": [
            "False\n"
          ]
        },
        {
          "output_type": "execute_result",
          "data": {
            "text/plain": [
              "'\\nthe arithmatic expression is of base 2 and is converted to float type . Same as case 1 \\n\\n'"
            ],
            "application/vnd.google.colaboratory.intrinsic+json": {
              "type": "string"
            }
          },
          "metadata": {},
          "execution_count": 19
        }
      ]
    },
    {
      "cell_type": "markdown",
      "source": [
        "### Try to understand the following examples and answer the question based on it - \n",
        "    \n",
        "**Arithmatic Operators**\n",
        "\n",
        "|Operation|Meaning|\n",
        "|:-:|:-:|\n",
        "| **+** |addition|\n",
        "| **-** |subtraction|\n",
        "| **\\*** |multiplication|\n",
        "| **/** |true division|\n",
        "| **//** |integer division|\n",
        "| **%** |the modulo operator|\n",
        "\n",
        "\n",
        "Here `+`, `-`, `*`, `/` are regular arithmatic operators. Lets look at the `//` and `%` operators"
      ],
      "metadata": {
        "id": "aZ55GrIO5gbN"
      }
    },
    {
      "cell_type": "code",
      "source": [
        "#examples\n",
        "a = int(input(\"Enter the first number: \"))\n",
        "b = int(input(\"enter the second number: \"))\n",
        "\n",
        "integer_division = b // a\n",
        "remainder = b % a\n",
        "\n",
        "print(f\"Integer division = {b}/{a} is {integer_division} \")\n",
        "print(f\"remainder of {b} % {a} is : {remainder}\")\n",
        "\n",
        "\n",
        "c = int(input(\"Enter the first number: \"))\n",
        "d = int(input(\"enter the second number: \"))\n",
        "\n",
        "integer_division = d // c\n",
        "remainder = d % c\n",
        "\n",
        "print(f\"Integer division = {d}/{c} is {integer_division} \")\n",
        "print(f\"remainder of {d} % {c} is : {remainder}\")"
      ],
      "metadata": {
        "colab": {
          "base_uri": "https://localhost:8080/"
        },
        "id": "M1rmGZS32jKZ",
        "outputId": "ea48672e-113f-462b-9d93-9a4a116b95b9"
      },
      "execution_count": 26,
      "outputs": [
        {
          "output_type": "stream",
          "name": "stdout",
          "text": [
            "Enter the first number: 5\n",
            "enter the second number: 25\n",
            "Integer division = 25/5 is 5 \n",
            "remainder of 25 % 5 is : 0\n",
            "Enter the first number: 24\n",
            "enter the second number: 4\n",
            "Integer division = 4/24 is 0 \n",
            "remainder of 4 % 24 is : 4\n"
          ]
        }
      ]
    },
    {
      "cell_type": "markdown",
      "source": [
        "\n",
        "7. Write a program that asks the user to enter a number. You should print out a message to the user, either “That number is divisible by either 3 or 5”, or “That number is not divisible by either 3 or 5”. Be sure to consider the data type of the input you are taking in from the user. Use a single if/else block to solve this problem."
      ],
      "metadata": {
        "id": "wbFJaV6h9KFC"
      }
    },
    {
      "cell_type": "code",
      "source": [
        "number = int(input(\"Please enter the number to check for the divisibility by 3 or 5 : \"))\n",
        "\n",
        "if number % 3 ==0  or number % 5 == 0: #using logical OR\n",
        "  print(\"The number is either divisible by 3 or 5\")\n",
        "else:\n",
        "  print(\"The number is not divisble by 3 or 5\")"
      ],
      "metadata": {
        "colab": {
          "base_uri": "https://localhost:8080/"
        },
        "id": "PYm-H6Y07960",
        "outputId": "cb2ca8d1-6651-43a2-a627-969a3417a0c1"
      },
      "execution_count": 28,
      "outputs": [
        {
          "output_type": "stream",
          "name": "stdout",
          "text": [
            "Please enter the number to check for the divisibility by 3 or 5 : 8\n",
            "The number is not divisble by 3 or 5\n"
          ]
        }
      ]
    },
    {
      "cell_type": "markdown",
      "source": [
        "8. Take user input for length and width. Then calculate the area of rectangle. Also print as per length and width whether its a square of rectangle."
      ],
      "metadata": {
        "id": "YkDjlFhd9xnr"
      }
    },
    {
      "cell_type": "code",
      "source": [
        "length = int(input(\"Please enter the length in metres: \"))\n",
        "width = int(input(\"Please enter the width in metres: \"))\n",
        "\n",
        "area= length * width\n",
        "\n",
        "if (length == width):\n",
        "  print(f\"As the length {length} metre and width {width} metres are same so it is a square\")\n",
        "\n",
        "else:\n",
        "  print(f\"The area of the rectangle with length {length} metres and width {width} metres is : {area} sq. metres\")\n"
      ],
      "metadata": {
        "colab": {
          "base_uri": "https://localhost:8080/"
        },
        "id": "tyacOWfr9i2G",
        "outputId": "29bd03bd-d838-4e00-cab5-bc293e599cb7"
      },
      "execution_count": 30,
      "outputs": [
        {
          "output_type": "stream",
          "name": "stdout",
          "text": [
            "Please enter the length in metres: 23\n",
            "Please enter the width in metres: 23\n",
            "As the length 23 metre and width 23 metres are same so it is a square\n"
          ]
        }
      ]
    },
    {
      "cell_type": "markdown",
      "source": [
        "\n",
        "9. Take two variable radius_1 and radius_2 and calculate the area of circle_1 and circle_2. Also print which circle has large area. If area is equal then print area is equal."
      ],
      "metadata": {
        "id": "Eh-3SIlZ-QZn"
      }
    },
    {
      "cell_type": "code",
      "source": [
        "radius_1 = int(input(\"Please enter the radius of the 1st circle in mts : \"))\n",
        "radius_2 = int(input(\"Please enter the radius of the 2nd circle in mts : \"))\n",
        "\n",
        "area_circle_1 =  (22/7) * radius_1 ** 2\n",
        "area_circle_2 =  (22/7) * radius_2 ** 2\n",
        "\n",
        "if area_circle_1 == area_circle_2:\n",
        "  print(\"Both the circles have equal Area\")\n",
        "else:\n",
        "  if area_circle_1 > area_circle_2:\n",
        "    print(f\"Circle one has larger area of {area_circle_1} sq mts \")\n",
        "  else:\n",
        "    print(f\"Circle two has larger area of {area_circle_2} sq. mts \")\n",
        "\n",
        "\n",
        "radius_3 = int(input(\"Please enter the radius of the 3rd circle in mts : \"))\n",
        "radius_4 = int(input(\"Please enter the radius of the 4th circle in mts : \"))\n",
        "\n",
        "area_circle_3 =  (22/7) * radius_3 ** 2\n",
        "area_circle_4 =  (22/7) * radius_4 ** 2\n",
        "\n",
        "if area_circle_3 == area_circle_4:\n",
        "  print(\"Both the circles have equal Area\")\n",
        "else:\n",
        "  if area_circle_3 > area_circle_4:\n",
        "    print(f\"Circle three has larger area of {area_circle_3} sq mts \")\n",
        "  else:\n",
        "    print(f\"Circle four has larger area of {area_circle_4} sq. mts \")\n",
        "\n",
        "\n",
        "\n",
        "  "
      ],
      "metadata": {
        "colab": {
          "base_uri": "https://localhost:8080/"
        },
        "id": "6IrCc2PE-IVF",
        "outputId": "28296aa1-b183-4e6a-b4c5-46fd6faa4eb9"
      },
      "execution_count": 34,
      "outputs": [
        {
          "output_type": "stream",
          "name": "stdout",
          "text": [
            "Please enter the radius of the 1st circle in mts : 14\n",
            "Please enter the radius of the 2nd circle in mts : 21\n",
            "Circle two has larger area of 1386.0 sq. mts \n",
            "Please enter the radius of the 3rd circle in mts : 35\n",
            "Please enter the radius of the 4th circle in mts : 63\n",
            "Circle four has larger area of 12474.0 sq. mts \n"
          ]
        }
      ]
    },
    {
      "cell_type": "markdown",
      "source": [
        "10. Check whether a year is leap year or not. Use nested if...else to solve this problem. A leap year is exactly divisible by 4 except for century years (years ending with 00). The century year is a leap year only if it is perfectly divisible by 400."
      ],
      "metadata": {
        "id": "D0pYnIrPAWHf"
      }
    },
    {
      "cell_type": "code",
      "source": [
        "leap_year = int(input(\"Enter the Year: \"))\n",
        "\n",
        "if leap_year % 4 == 0 :\n",
        "  if leap_year % 400 ==0:\n",
        "    print(\"It is a leap year\")\n",
        "  else:\n",
        "    print(\"Not a leap year\")\n",
        "else:\n",
        "  print(\"It is not a leap year\")\n",
        "\n"
      ],
      "metadata": {
        "colab": {
          "base_uri": "https://localhost:8080/"
        },
        "id": "fBm47FvC_VLs",
        "outputId": "a5ea39b3-92b4-49c4-f299-d5ee23de6fc3"
      },
      "execution_count": 35,
      "outputs": [
        {
          "output_type": "stream",
          "name": "stdout",
          "text": [
            "Enter the Year: 2022\n",
            "It is not a leap year\n"
          ]
        }
      ]
    },
    {
      "cell_type": "code",
      "source": [],
      "metadata": {
        "id": "hst9ZHU8Al9Z"
      },
      "execution_count": null,
      "outputs": []
    }
  ]
}