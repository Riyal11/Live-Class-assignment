{
  "cells": [
    {
      "cell_type": "markdown",
      "id": "86e9a95d",
      "metadata": {
        "id": "86e9a95d"
      },
      "source": [
        "# Q1. Find out all the types of error that we have encountered in our lecture and why? Also include the examples."
      ]
    },
    {
      "cell_type": "markdown",
      "id": "e8a69400",
      "metadata": {
        "id": "e8a69400"
      },
      "source": [
        "# # case sensetivity problm:\n"
      ]
    },
    {
      "cell_type": "code",
      "execution_count": null,
      "id": "5bcff831",
      "metadata": {
        "id": "5bcff831",
        "outputId": "cc4396e7-4715-4daa-c649-61e92678cb47"
      },
      "outputs": [
        {
          "name": "stdout",
          "output_type": "stream",
          "text": [
            "20\n"
          ]
        },
        {
          "ename": "NameError",
          "evalue": "name 'Ten' is not defined",
          "output_type": "error",
          "traceback": [
            "\u001b[1;31m---------------------------------------------------------------------------\u001b[0m",
            "\u001b[1;31mNameError\u001b[0m                                 Traceback (most recent call last)",
            "\u001b[1;32m~\\AppData\\Local\\Temp\\ipykernel_11960\\1260099940.py\u001b[0m in \u001b[0;36m<module>\u001b[1;34m\u001b[0m\n\u001b[0;32m      2\u001b[0m \u001b[0mten\u001b[0m \u001b[1;33m=\u001b[0m \u001b[1;36m20\u001b[0m\u001b[1;33m\u001b[0m\u001b[1;33m\u001b[0m\u001b[0m\n\u001b[0;32m      3\u001b[0m \u001b[0mprint\u001b[0m\u001b[1;33m(\u001b[0m\u001b[0mten\u001b[0m\u001b[1;33m)\u001b[0m\u001b[1;33m\u001b[0m\u001b[1;33m\u001b[0m\u001b[0m\n\u001b[1;32m----> 4\u001b[1;33m \u001b[0mprint\u001b[0m\u001b[1;33m(\u001b[0m\u001b[0mTen\u001b[0m\u001b[1;33m)\u001b[0m\u001b[1;33m\u001b[0m\u001b[1;33m\u001b[0m\u001b[0m\n\u001b[0m",
            "\u001b[1;31mNameError\u001b[0m: name 'Ten' is not defined"
          ]
        }
      ],
      "source": [
        "TEN = 10\n",
        "ten = 20\n",
        "print(ten)\n",
        "print(Ten)"
      ]
    },
    {
      "cell_type": "code",
      "execution_count": null,
      "id": "ab8bac4b",
      "metadata": {
        "id": "ab8bac4b",
        "outputId": "e4e50007-201e-49a1-9933-670f5e617d96"
      },
      "outputs": [
        {
          "name": "stdout",
          "output_type": "stream",
          "text": [
            "10\n"
          ]
        }
      ],
      "source": [
        "print(TEN)"
      ]
    },
    {
      "cell_type": "markdown",
      "id": "23096f2a",
      "metadata": {
        "id": "23096f2a"
      },
      "source": [
        " "
      ]
    },
    {
      "cell_type": "code",
      "execution_count": null,
      "id": "a127ab05",
      "metadata": {
        "id": "a127ab05",
        "outputId": "b96c7a06-c18f-4420-a013-8bb968e04897"
      },
      "outputs": [
        {
          "ename": "NameError",
          "evalue": "name 'Ten' is not defined",
          "output_type": "error",
          "traceback": [
            "\u001b[1;31m---------------------------------------------------------------------------\u001b[0m",
            "\u001b[1;31mNameError\u001b[0m                                 Traceback (most recent call last)",
            "\u001b[1;32m~\\AppData\\Local\\Temp\\ipykernel_11960\\2448699138.py\u001b[0m in \u001b[0;36m<module>\u001b[1;34m\u001b[0m\n\u001b[1;32m----> 1\u001b[1;33m \u001b[0mprint\u001b[0m\u001b[1;33m(\u001b[0m\u001b[0mTen\u001b[0m\u001b[1;33m)\u001b[0m\u001b[1;33m\u001b[0m\u001b[1;33m\u001b[0m\u001b[0m\n\u001b[0m",
            "\u001b[1;31mNameError\u001b[0m: name 'Ten' is not defined"
          ]
        }
      ],
      "source": [
        "print(Ten)"
      ]
    },
    {
      "cell_type": "code",
      "execution_count": null,
      "id": "0446022e",
      "metadata": {
        "id": "0446022e"
      },
      "outputs": [],
      "source": [
        "## Should not use reserved words as variable names\n",
        "print(\"Hello World\")\n",
        "print=\"Hello World\" #as a variable\n",
        "type(print)\n",
        "\n",
        "print(\"Hello World\")\n"
      ]
    },
    {
      "cell_type": "code",
      "execution_count": null,
      "id": "47124013",
      "metadata": {
        "id": "47124013"
      },
      "outputs": [],
      "source": []
    },
    {
      "cell_type": "code",
      "execution_count": null,
      "id": "d6805d01",
      "metadata": {
        "id": "d6805d01"
      },
      "outputs": [],
      "source": [
        "#del command to delete variable\n",
        "del print"
      ]
    },
    {
      "cell_type": "markdown",
      "id": "6360ee60",
      "metadata": {
        "id": "6360ee60"
      },
      "source": [
        "## mention the datatype when taking input from the user "
      ]
    },
    {
      "cell_type": "code",
      "execution_count": null,
      "id": "63ccacac",
      "metadata": {
        "id": "63ccacac"
      },
      "outputs": [],
      "source": [
        "# age of user\n",
        "name = input(\"Name: \")\n",
        "place = input(\"Place: \")\n",
        "year_of_birth = input(\"year_of_birth: \")\n",
        "\n",
        "age = 2022 - year_of_birth\n",
        "\n",
        "print(f\"\"\"\n",
        "My name is: {name}\n",
        "I live at: {place}\n",
        "{name} is of age:{age}\n",
        "\"\"\")"
      ]
    },
    {
      "cell_type": "markdown",
      "id": "d5160650",
      "metadata": {
        "id": "d5160650"
      },
      "source": [
        "## we need to put exact mentioned datatype's value  "
      ]
    },
    {
      "cell_type": "code",
      "execution_count": null,
      "id": "def4ede4",
      "metadata": {
        "id": "def4ede4",
        "outputId": "194c06ec-6f32-4663-a69d-077ac69dfdda"
      },
      "outputs": [
        {
          "name": "stdout",
          "output_type": "stream",
          "text": [
            "Enter value of A:43.0\n",
            " Enter value of B:74.6\n"
          ]
        },
        {
          "ename": "ValueError",
          "evalue": "invalid literal for int() with base 10: '74.6'",
          "output_type": "error",
          "traceback": [
            "\u001b[1;31m---------------------------------------------------------------------------\u001b[0m",
            "\u001b[1;31mValueError\u001b[0m                                Traceback (most recent call last)",
            "\u001b[1;32m~\\AppData\\Local\\Temp\\ipykernel_11960\\2896125820.py\u001b[0m in \u001b[0;36m<module>\u001b[1;34m\u001b[0m\n\u001b[0;32m      1\u001b[0m \u001b[0mA\u001b[0m \u001b[1;33m=\u001b[0m \u001b[0mfloat\u001b[0m\u001b[1;33m(\u001b[0m\u001b[0minput\u001b[0m\u001b[1;33m(\u001b[0m\u001b[1;34m\"Enter value of A:\"\u001b[0m\u001b[1;33m)\u001b[0m\u001b[1;33m)\u001b[0m\u001b[1;33m\u001b[0m\u001b[1;33m\u001b[0m\u001b[0m\n\u001b[1;32m----> 2\u001b[1;33m \u001b[0mB\u001b[0m \u001b[1;33m=\u001b[0m \u001b[0mint\u001b[0m\u001b[1;33m(\u001b[0m\u001b[0minput\u001b[0m \u001b[1;33m(\u001b[0m\u001b[1;34m\" Enter value of B:\"\u001b[0m\u001b[1;33m)\u001b[0m\u001b[1;33m)\u001b[0m\u001b[1;33m\u001b[0m\u001b[1;33m\u001b[0m\u001b[0m\n\u001b[0m\u001b[0;32m      3\u001b[0m \u001b[1;33m\u001b[0m\u001b[0m\n\u001b[0;32m      4\u001b[0m \u001b[0mprint\u001b[0m\u001b[1;33m(\u001b[0m\u001b[1;34mf\"Sum of A and B is :{A+B}\"\u001b[0m\u001b[1;33m)\u001b[0m\u001b[1;33m\u001b[0m\u001b[1;33m\u001b[0m\u001b[0m\n",
            "\u001b[1;31mValueError\u001b[0m: invalid literal for int() with base 10: '74.6'"
          ]
        }
      ],
      "source": [
        "A = float(input(\"Enter value of A:\"))\n",
        "B = int(input (\" Enter value of B:\"))\n",
        "\n",
        "print(f\"Sum of A and B is :{A+B}\")"
      ]
    },
    {
      "cell_type": "markdown",
      "id": "0996cc8c",
      "metadata": {
        "id": "0996cc8c"
      },
      "source": [
        "## we can't change an empty string to any datatype "
      ]
    },
    {
      "cell_type": "code",
      "execution_count": null,
      "id": "57345c2d",
      "metadata": {
        "id": "57345c2d",
        "outputId": "b4070d57-02ea-4a3b-d6e5-d3db91b704cb"
      },
      "outputs": [
        {
          "name": "stdout",
          "output_type": "stream",
          "text": [
            "data type before:<class 'str'>, value of A: \n"
          ]
        },
        {
          "ename": "ValueError",
          "evalue": "invalid literal for int() with base 10: ''",
          "output_type": "error",
          "traceback": [
            "\u001b[1;31m---------------------------------------------------------------------------\u001b[0m",
            "\u001b[1;31mValueError\u001b[0m                                Traceback (most recent call last)",
            "\u001b[1;32m~\\AppData\\Local\\Temp\\ipykernel_11960\\3699311733.py\u001b[0m in \u001b[0;36m<module>\u001b[1;34m\u001b[0m\n\u001b[0;32m      2\u001b[0m \u001b[0mA\u001b[0m \u001b[1;33m=\u001b[0m \u001b[1;34m\"\"\u001b[0m\u001b[1;33m\u001b[0m\u001b[1;33m\u001b[0m\u001b[0m\n\u001b[0;32m      3\u001b[0m \u001b[0mprint\u001b[0m\u001b[1;33m(\u001b[0m\u001b[1;34mf\"data type before:{type(A)}, value of A: {A}\"\u001b[0m\u001b[1;33m)\u001b[0m\u001b[1;33m\u001b[0m\u001b[1;33m\u001b[0m\u001b[0m\n\u001b[1;32m----> 4\u001b[1;33m \u001b[0mA\u001b[0m \u001b[1;33m=\u001b[0m \u001b[0mint\u001b[0m\u001b[1;33m(\u001b[0m\u001b[0mA\u001b[0m\u001b[1;33m)\u001b[0m\u001b[1;33m\u001b[0m\u001b[1;33m\u001b[0m\u001b[0m\n\u001b[0m\u001b[0;32m      5\u001b[0m \u001b[0mprint\u001b[0m\u001b[1;33m(\u001b[0m\u001b[1;34mf\"data type after :{type(A)}, Value of A: {A}\"\u001b[0m\u001b[1;33m)\u001b[0m\u001b[1;33m\u001b[0m\u001b[1;33m\u001b[0m\u001b[0m\n",
            "\u001b[1;31mValueError\u001b[0m: invalid literal for int() with base 10: ''"
          ]
        }
      ],
      "source": [
        "#empty string to int\n",
        "A = \"\"\n",
        "print(f\"data type before:{type(A)}, value of A: {A}\")\n",
        "A = int(A)\n",
        "print(f\"data type after :{type(A)}, Value of A: {A}\")\n"
      ]
    },
    {
      "cell_type": "markdown",
      "id": "1d58d3ae",
      "metadata": {
        "id": "1d58d3ae"
      },
      "source": [
        "# Take inout A and B and print their sum, mul, div, square of the nos.\n"
      ]
    },
    {
      "cell_type": "code",
      "execution_count": 5,
      "id": "0f9684f9",
      "metadata": {
        "colab": {
          "base_uri": "https://localhost:8080/"
        },
        "id": "0f9684f9",
        "outputId": "cd355b2c-0e0b-4aed-bc53-bbb6d7b82930"
      },
      "outputs": [
        {
          "output_type": "stream",
          "name": "stdout",
          "text": [
            "Enter 1st Number: 21\n",
            "enter 2nd Number: 25\n",
            "The 'sum' of 21 and 25 is : 46\n",
            "The 'mul'of 21 and 25 is: 525\n",
            "The 'div' of 21 and 25 is :0.84\n",
            "The 'Square'of 21 and 25 is : 441 and 625 respectively\n"
          ]
        }
      ],
      "source": [
        "#taking inputs from the user \n",
        "a = int(input(\"Enter 1st Number: \"))\n",
        "b = int(input(\"enter 2nd Number: \"))\n",
        "\n",
        "\n",
        "#mathematical equations\n",
        "\n",
        "sum = a+b\n",
        "mul = a*b\n",
        "div = a/b\n",
        "square_of_a = a**2\n",
        "square_of_b = b**2\n",
        "\n",
        "#printing the result\n",
        "print(f\"The 'sum' of {a} and {b} is : {sum}\")\n",
        "print(f\"The 'mul'of {a} and {b} is: {mul}\")\n",
        "print(f\"The 'div' of {a} and {b} is :{div}\")\n",
        "print(f\"The 'Square'of {a} and {b} is : {square_of_a} and {square_of_b} respectively\") "
      ]
    },
    {
      "cell_type": "markdown",
      "source": [
        "# 3. How many reserve Keywords are there in python and why we should not use them as a variable name.\n",
        "\n",
        "\n",
        "\n",
        "1.   There are only 33 reserve keywords in python.\n",
        "\n",
        "2.  We shouldn't use those as variable name because if i will use those words as variable, then those might revert in the data type of the variable, and for future use of those variable as keywords, will through an error.\n",
        "\n"
      ],
      "metadata": {
        "id": "iIgqDGxJRtX7"
      },
      "id": "iIgqDGxJRtX7"
    },
    {
      "cell_type": "markdown",
      "source": [
        "# Q4. Create email ids with the user inputs.In the following format - lastname.firstname@gmail.com"
      ],
      "metadata": {
        "id": "RI2DBWPuUCpS"
      },
      "id": "RI2DBWPuUCpS"
    },
    {
      "cell_type": "code",
      "source": [
        "# taking the user inputs\n",
        "first_name= input(\"enter the first name: \")\n",
        "last_name =input(\"enter the last name:  \")\n",
        "#creating the email id\n",
        "print(f\" The user E-mail ID is : {last_name}.{first_name}@gmail.com\")\n"
      ],
      "metadata": {
        "colab": {
          "base_uri": "https://localhost:8080/"
        },
        "id": "O0apFhRNRnFw",
        "outputId": "721de2bd-c7c2-4125-e43c-e4bd8b683b8b"
      },
      "id": "O0apFhRNRnFw",
      "execution_count": 7,
      "outputs": [
        {
          "output_type": "stream",
          "name": "stdout",
          "text": [
            "enter the first name: Jayden\n",
            "enter the last name:  Brake\n",
            " The user E-mail ID is : Brake.Jayden@gmail.com\n"
          ]
        }
      ]
    },
    {
      "cell_type": "markdown",
      "source": [
        "# Q5. Print the following lines\n",
        "\n",
        "\n",
        "*   Hi I'm Sunny\n",
        "*   My Address is 22\\3\n",
        "*   I earn 20$ daily.\n",
        "\n",
        "\n",
        "\n",
        "\n",
        "\n"
      ],
      "metadata": {
        "id": "vcZJ47n0VO61"
      },
      "id": "vcZJ47n0VO61"
    },
    {
      "cell_type": "code",
      "source": [
        "# taking the user inputs\n",
        "statement_1 = \"Hi I'm Sunny\"\n",
        "statement_2 = \"My address is 22\\\\3\"\n",
        "statement_3 = \"I earn 20$ daily.\"\n",
        "\n",
        "# printing the statements\n",
        "print(f\"The 1st statement is: {statement_1}\")\n",
        "print(f\"The 2nd statement is: {statement_2}\")\n",
        "print(f\"The 3rd statement is: {statement_3}\")"
      ],
      "metadata": {
        "colab": {
          "base_uri": "https://localhost:8080/"
        },
        "id": "0lb2lw6_U7zN",
        "outputId": "d1ad1de3-bef6-40ef-a7d1-bda6b543c67d"
      },
      "id": "0lb2lw6_U7zN",
      "execution_count": 8,
      "outputs": [
        {
          "output_type": "stream",
          "name": "stdout",
          "text": [
            "The 1st statement is: Hi I'm Sunny\n",
            "The 2nd statement is: My address is 22\\3\n",
            "The 3rd statement is: I earn 20$ daily.\n"
          ]
        }
      ]
    },
    {
      "cell_type": "markdown",
      "source": [
        "# **6. Take user input (name, address, date of birth etc) to fill a form for your college and print their email IDs**"
      ],
      "metadata": {
        "id": "z8GG-RkhWlie"
      },
      "id": "z8GG-RkhWlie"
    },
    {
      "cell_type": "code",
      "source": [
        "# taking the user inputs\n",
        "first_name = input(\"Enter your first name: \")\n",
        "last_name = input(\"Enter your last name: \")\n",
        "\n",
        "house_no = input(\"Enter your house_no: \")\n",
        "vill_or_city = input(\"Enter your Village/City name: \")\n",
        "po = input(\"Enter your Post Office: \")\n",
        "ps = input(\"Enter your Police Station: \")\n",
        "pin = input(\"Enter your Postal Code: \")\n",
        "dist = input(\"Enter your District: \")\n",
        "state = input(\"Enter your State: \")\n",
        "\n",
        "dob = input(\"Enter your date of birth: \")\n",
        "\n",
        "# printing the outputs\n",
        "print(f\"\\nYour full name: {first_name} {last_name}\")\n",
        "\n",
        "print()\n",
        "\n",
        "print(f\"\"\"Your full address:- \n",
        "house_no: {house_no},\n",
        "Village/City name: {vill_or_city},\n",
        "Post Office: {po},\n",
        "Police Station: {ps},\n",
        "Postal Code: {pin},\n",
        "District: {dist},\n",
        "State: {state}\"\"\")\n",
        "\n",
        "print()\n",
        "\n",
        "print(f\"Your D.O.B. is: {dob}\")\n",
        "\n",
        "print()\n",
        "\n",
        "\n",
        "# creating the email id\n",
        "print(f\"The user email id is: {(last_name.lower())}.{(first_name.lower())}@gmail.com\")"
      ],
      "metadata": {
        "colab": {
          "base_uri": "https://localhost:8080/"
        },
        "id": "RDVz7qxMVzXT",
        "outputId": "e0c65903-b25e-47c6-829b-fde2aaa1a4ad"
      },
      "id": "RDVz7qxMVzXT",
      "execution_count": 9,
      "outputs": [
        {
          "output_type": "stream",
          "name": "stdout",
          "text": [
            "Enter your first name: Jayden\n",
            "Enter your last name: Brake\n",
            "Enter your house_no: 43\n",
            "Enter your Village/City name: South Wales\n",
            "Enter your Post Office: aukland\n",
            "Enter your Police Station: wales\n",
            "Enter your Postal Code: 901267\n",
            "Enter your District: Wasseypu\n",
            "Enter your State: Uttar pradesh\n",
            "Enter your date of birth: 07/08/1999\n",
            "\n",
            "Your full name: Jayden Brake\n",
            "\n",
            "Your full address:- \n",
            "house_no: 43,\n",
            "Village/City name: South Wales,\n",
            "Post Office: aukland,\n",
            "Police Station: wales,\n",
            "Postal Code: 901267,\n",
            "District: Wasseypu,\n",
            "State: Uttar pradesh\n",
            "\n",
            "Your D.O.B. is: 07/08/1999\n",
            "\n",
            "The user email id is: brake.jayden@gmail.com\n"
          ]
        }
      ]
    },
    {
      "cell_type": "markdown",
      "source": [
        "7. Convert the following -\n",
        " * \"22.4\" into integer\n",
        " * \"22\" into complex no."
      ],
      "metadata": {
        "id": "3iNqGtrpXtH8"
      },
      "id": "3iNqGtrpXtH8"
    },
    {
      "cell_type": "code",
      "source": [
        "# float to integer\n",
        "x = 22.4\n",
        "print(f\"The data type of given number is: {type(x)}, value of x: {x}\")\n",
        "x = int(x)\n",
        "print(f\"After converting '22.4' into integer: {x}\")\n",
        "\n",
        "print()\n",
        "\n",
        "# integer to float\n",
        "y = 22\n",
        "print(f\"The data type of given number is: {type(y)}, value of x: {y}\")\n",
        "y = float(y)\n",
        "print(f\"After converting '22' into float: {y}\")"
      ],
      "metadata": {
        "colab": {
          "base_uri": "https://localhost:8080/"
        },
        "id": "TQK6NZ5IWs7K",
        "outputId": "7f648a0b-901e-4490-b011-de6e24488693"
      },
      "id": "TQK6NZ5IWs7K",
      "execution_count": 10,
      "outputs": [
        {
          "output_type": "stream",
          "name": "stdout",
          "text": [
            "The data type of given number is: <class 'float'>, value of x: 22.4\n",
            "After converting '22.4' into integer: 22\n",
            "\n",
            "The data type of given number is: <class 'int'>, value of x: 22\n",
            "After converting '22' into float: 22.0\n"
          ]
        }
      ]
    },
    {
      "cell_type": "code",
      "source": [
        "# int to complex\n",
        "a = 22\n",
        "print('Input',a,type(a))\n",
        "\n",
        "output = complex(a)\n",
        "print('output',output, type(output))\n"
      ],
      "metadata": {
        "colab": {
          "base_uri": "https://localhost:8080/"
        },
        "id": "goHwNcmaX12d",
        "outputId": "feebb852-5fb6-41f6-a617-801d8e946405"
      },
      "id": "goHwNcmaX12d",
      "execution_count": 17,
      "outputs": [
        {
          "output_type": "stream",
          "name": "stdout",
          "text": [
            "Input 22 <class 'int'>\n",
            "output (22+0j) <class 'complex'>\n"
          ]
        }
      ]
    },
    {
      "cell_type": "code",
      "source": [],
      "metadata": {
        "id": "hyRFfq80ZxDi"
      },
      "id": "hyRFfq80ZxDi",
      "execution_count": null,
      "outputs": []
    }
  ],
  "metadata": {
    "kernelspec": {
      "display_name": "Python 3 (ipykernel)",
      "language": "python",
      "name": "python3"
    },
    "language_info": {
      "codemirror_mode": {
        "name": "ipython",
        "version": 3
      },
      "file_extension": ".py",
      "mimetype": "text/x-python",
      "name": "python",
      "nbconvert_exporter": "python",
      "pygments_lexer": "ipython3",
      "version": "3.9.13"
    },
    "colab": {
      "provenance": []
    }
  },
  "nbformat": 4,
  "nbformat_minor": 5
}